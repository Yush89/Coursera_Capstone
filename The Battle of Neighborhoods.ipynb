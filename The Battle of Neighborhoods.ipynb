{
    "cells": [
        {
            "metadata": {
                "collapsed": true
            },
            "cell_type": "markdown",
            "source": "# Capstone Project : Battle of the Neighborhoods"
        },
        {
            "metadata": {},
            "cell_type": "markdown",
            "source": "## Housing Market in Paris"
        },
        {
            "metadata": {},
            "cell_type": "markdown",
            "source": "Paris is one of the most expensive cities in the world when it comes to real estate. Finding an appartement in Paris is a true mission, and can take up to months of searching, appointments, visits, only to see the appartment go to someone else for most cases. However, with interest rates as low as 1% for a credit line over 25 years, and with real estate picking up value year after year at high percentages, becoming a home owner has become appealing to most parisians, as soon as they become active in the work market.\n\nWith demand for real estate increasing in Paris and offers rare, expensive and far between, it is reasonable to assume that home buyers need to be guided in the this important decision making. In this project, we use machine learning techniques to cluster neighborhoods based on real estate prices, and make recommendations based on venues of the surrounding area in order to help them make the best suited decision for them."
        },
        {
            "metadata": {},
            "cell_type": "markdown",
            "source": "## Data description"
        },
        {
            "metadata": {},
            "cell_type": "markdown",
            "source": "To solve the problem at hand, we will be using data scraped from the french governmental website (https://www.data.gouv.fr/fr/datasets/demandes-de-valeurs-foncieres/). This database will give us access to addresses of properties, their values, their types, their surfaces and the number of rooms in them. We will also be using the foutsquare API interface to explore the neighborhoods and recommend locations according to the presence of nearby accomodations, by using maps for visualization. \n\nAnother important data source of this study is the metro stations around Paris, in order to help us determine the accessibility to a given appartment or house. This information is available on the website of the transport service provider of the city, RATP (https://www.ratp.fr/).\n\nCombining data on the properties, their features, their locations and their surroundings, we should be able to provide the home buyers with sufficient insight to make informed decisions."
        },
        {
            "metadata": {},
            "cell_type": "markdown",
            "source": "## Data"
        },
        {
            "metadata": {},
            "cell_type": "markdown",
            "source": "Let's import the data below to have a look at the first few rows of our data bases"
        },
        {
            "metadata": {
                "scrolled": true
            },
            "cell_type": "code",
            "source": "#Real Estate features\n!wget 'https://www.data.gouv.fr/fr/datasets/r/3004168d-bec4-44d9-a781-ef16f41856a2' -O housingdata.csv\n#RATP stations\n!wget https://dataratp2.opendatasoft.com/explore/dataset/positions-geographiques-des-stations-du-reseau-ratp/download/\\?format\\=csv\\&timezone\\=Europe/Berlin\\&lang\\=fr\\&use_labels_for_header\\=true\\&csv_separator\\=%3B -O ratp_stations.csv",
            "execution_count": 5,
            "outputs": [
                {
                    "output_type": "stream",
                    "text": "--2020-03-01 00:03:28--  https://www.data.gouv.fr/fr/datasets/r/3004168d-bec4-44d9-a781-ef16f41856a2\nResolving www.data.gouv.fr (www.data.gouv.fr)... 37.59.183.73\nConnecting to www.data.gouv.fr (www.data.gouv.fr)|37.59.183.73|:443... connected.\nHTTP request sent, awaiting response... 302 FOUND\nLocation: https://static.data.gouv.fr/resources/demandes-de-valeurs-foncieres/20191030-122930/valeursfoncieres-2019.txt [following]\n--2020-03-01 00:03:28--  https://static.data.gouv.fr/resources/demandes-de-valeurs-foncieres/20191030-122930/valeursfoncieres-2019.txt\nResolving static.data.gouv.fr (static.data.gouv.fr)... 37.59.183.73\nConnecting to static.data.gouv.fr (static.data.gouv.fr)|37.59.183.73|:443... connected.\nHTTP request sent, awaiting response... 200 OK\nLength: 135748668 (129M) [text/plain]\nSaving to: \u2018housingdata.csv\u2019\n\n100%[======================================>] 135,748,668 48.2MB/s   in 2.7s   \n\n2020-03-01 00:03:31 (48.2 MB/s) - \u2018housingdata.csv\u2019 saved [135748668/135748668]\n\n--2020-03-01 00:03:32--  https://dataratp2.opendatasoft.com/explore/dataset/positions-geographiques-des-stations-du-reseau-ratp/download/?format=csv&timezone=Europe/Berlin&lang=fr&use_labels_for_header=true&csv_separator=%3B\nResolving dataratp2.opendatasoft.com (dataratp2.opendatasoft.com)... 34.249.199.226, 34.248.20.69\nConnecting to dataratp2.opendatasoft.com (dataratp2.opendatasoft.com)|34.249.199.226|:443... connected.\nHTTP request sent, awaiting response... 200 OK\nLength: unspecified [application/csv]\nSaving to: \u2018ratp_stations.csv\u2019\n\n    [                                 <=>   ] 2,194,435    211KB/s   in 13s    \n\n2020-03-01 00:03:45 (171 KB/s) - \u2018ratp_stations.csv\u2019 saved [2194435]\n\n",
                    "name": "stdout"
                }
            ]
        },
        {
            "metadata": {},
            "cell_type": "code",
            "source": "import pandas as pd\ndf = pd.read_csv('housingdata.csv', sep = '|')\ndf.head()",
            "execution_count": 8,
            "outputs": [
                {
                    "output_type": "execute_result",
                    "execution_count": 8,
                    "data": {
                        "text/plain": "   Code service CH  Reference document  1 Articles CGI  2 Articles CGI  \\\n0              NaN                 NaN             NaN             NaN   \n1              NaN                 NaN             NaN             NaN   \n2              NaN                 NaN             NaN             NaN   \n3              NaN                 NaN             NaN             NaN   \n4              NaN                 NaN             NaN             NaN   \n\n   3 Articles CGI  4 Articles CGI  5 Articles CGI  No disposition  \\\n0             NaN             NaN             NaN               1   \n1             NaN             NaN             NaN               1   \n2             NaN             NaN             NaN               1   \n3             NaN             NaN             NaN               1   \n4             NaN             NaN             NaN               1   \n\n  Date mutation Nature mutation  ... Surface Carrez du 5eme lot  \\\n0    11/01/2019           Vente  ...                        NaN   \n1    11/01/2019           Vente  ...                        NaN   \n2    08/02/2019           Vente  ...                        NaN   \n3    08/02/2019           Vente  ...                        NaN   \n4    04/04/2019           Vente  ...                        NaN   \n\n   Nombre de lots Code type local   Type local Identifiant local  \\\n0               1             3.0   D\u00e9pendance               NaN   \n1               2             2.0  Appartement               NaN   \n2               0             1.0       Maison               NaN   \n3               0             1.0       Maison               NaN   \n4               0             1.0       Maison               NaN   \n\n  Surface reelle bati  Nombre pieces principales Nature culture  \\\n0                 0.0                        0.0            NaN   \n1                67.0                        3.0            NaN   \n2               118.0                        4.0             AG   \n3               118.0                        4.0              S   \n4                60.0                        3.0              S   \n\n  Nature culture speciale  Surface terrain  \n0                     NaN              NaN  \n1                     NaN              NaN  \n2                    PARC            913.0  \n3                     NaN           1000.0  \n4                     NaN             96.0  \n\n[5 rows x 43 columns]",
                        "text/html": "<div>\n<style scoped>\n    .dataframe tbody tr th:only-of-type {\n        vertical-align: middle;\n    }\n\n    .dataframe tbody tr th {\n        vertical-align: top;\n    }\n\n    .dataframe thead th {\n        text-align: right;\n    }\n</style>\n<table border=\"1\" class=\"dataframe\">\n  <thead>\n    <tr style=\"text-align: right;\">\n      <th></th>\n      <th>Code service CH</th>\n      <th>Reference document</th>\n      <th>1 Articles CGI</th>\n      <th>2 Articles CGI</th>\n      <th>3 Articles CGI</th>\n      <th>4 Articles CGI</th>\n      <th>5 Articles CGI</th>\n      <th>No disposition</th>\n      <th>Date mutation</th>\n      <th>Nature mutation</th>\n      <th>...</th>\n      <th>Surface Carrez du 5eme lot</th>\n      <th>Nombre de lots</th>\n      <th>Code type local</th>\n      <th>Type local</th>\n      <th>Identifiant local</th>\n      <th>Surface reelle bati</th>\n      <th>Nombre pieces principales</th>\n      <th>Nature culture</th>\n      <th>Nature culture speciale</th>\n      <th>Surface terrain</th>\n    </tr>\n  </thead>\n  <tbody>\n    <tr>\n      <th>0</th>\n      <td>NaN</td>\n      <td>NaN</td>\n      <td>NaN</td>\n      <td>NaN</td>\n      <td>NaN</td>\n      <td>NaN</td>\n      <td>NaN</td>\n      <td>1</td>\n      <td>11/01/2019</td>\n      <td>Vente</td>\n      <td>...</td>\n      <td>NaN</td>\n      <td>1</td>\n      <td>3.0</td>\n      <td>D\u00e9pendance</td>\n      <td>NaN</td>\n      <td>0.0</td>\n      <td>0.0</td>\n      <td>NaN</td>\n      <td>NaN</td>\n      <td>NaN</td>\n    </tr>\n    <tr>\n      <th>1</th>\n      <td>NaN</td>\n      <td>NaN</td>\n      <td>NaN</td>\n      <td>NaN</td>\n      <td>NaN</td>\n      <td>NaN</td>\n      <td>NaN</td>\n      <td>1</td>\n      <td>11/01/2019</td>\n      <td>Vente</td>\n      <td>...</td>\n      <td>NaN</td>\n      <td>2</td>\n      <td>2.0</td>\n      <td>Appartement</td>\n      <td>NaN</td>\n      <td>67.0</td>\n      <td>3.0</td>\n      <td>NaN</td>\n      <td>NaN</td>\n      <td>NaN</td>\n    </tr>\n    <tr>\n      <th>2</th>\n      <td>NaN</td>\n      <td>NaN</td>\n      <td>NaN</td>\n      <td>NaN</td>\n      <td>NaN</td>\n      <td>NaN</td>\n      <td>NaN</td>\n      <td>1</td>\n      <td>08/02/2019</td>\n      <td>Vente</td>\n      <td>...</td>\n      <td>NaN</td>\n      <td>0</td>\n      <td>1.0</td>\n      <td>Maison</td>\n      <td>NaN</td>\n      <td>118.0</td>\n      <td>4.0</td>\n      <td>AG</td>\n      <td>PARC</td>\n      <td>913.0</td>\n    </tr>\n    <tr>\n      <th>3</th>\n      <td>NaN</td>\n      <td>NaN</td>\n      <td>NaN</td>\n      <td>NaN</td>\n      <td>NaN</td>\n      <td>NaN</td>\n      <td>NaN</td>\n      <td>1</td>\n      <td>08/02/2019</td>\n      <td>Vente</td>\n      <td>...</td>\n      <td>NaN</td>\n      <td>0</td>\n      <td>1.0</td>\n      <td>Maison</td>\n      <td>NaN</td>\n      <td>118.0</td>\n      <td>4.0</td>\n      <td>S</td>\n      <td>NaN</td>\n      <td>1000.0</td>\n    </tr>\n    <tr>\n      <th>4</th>\n      <td>NaN</td>\n      <td>NaN</td>\n      <td>NaN</td>\n      <td>NaN</td>\n      <td>NaN</td>\n      <td>NaN</td>\n      <td>NaN</td>\n      <td>1</td>\n      <td>04/04/2019</td>\n      <td>Vente</td>\n      <td>...</td>\n      <td>NaN</td>\n      <td>0</td>\n      <td>1.0</td>\n      <td>Maison</td>\n      <td>NaN</td>\n      <td>60.0</td>\n      <td>3.0</td>\n      <td>S</td>\n      <td>NaN</td>\n      <td>96.0</td>\n    </tr>\n  </tbody>\n</table>\n<p>5 rows \u00d7 43 columns</p>\n</div>"
                    },
                    "metadata": {}
                }
            ]
        },
        {
            "metadata": {},
            "cell_type": "code",
            "source": "ratp = pd.read_csv('ratp_stations.csv', sep=\";\")\nratp.head()",
            "execution_count": 9,
            "outputs": [
                {
                    "output_type": "execute_result",
                    "execution_count": 9,
                    "data": {
                        "text/plain": "        ID                Name                          Description  \\\n0  3677668  LYCEE EMILY BRONTE                  RUE GABRIEL - 77258   \n1  3677692    LES QUATRE PAVES  ROND-POINT DES QUATRE PAVES - 77337   \n2  6869589     SUZANNE BUISSON        AVENUE HENRI VARAGNAT - 93010   \n3     1656          La Fourche             Avenue de Clichy - 75117   \n4  3677694        CHOCOLATERIE       BOULEVARD PIERRE CARLE - 77337   \n\n                   Coordinates  \n0   48.839179854,2.63877127865  \n1  48.8516342568,2.62146597068  \n2  48.9135017218,2.48226363192  \n3  48.8874368425,2.32572522202  \n4  48.8560221346,2.62439108407  ",
                        "text/html": "<div>\n<style scoped>\n    .dataframe tbody tr th:only-of-type {\n        vertical-align: middle;\n    }\n\n    .dataframe tbody tr th {\n        vertical-align: top;\n    }\n\n    .dataframe thead th {\n        text-align: right;\n    }\n</style>\n<table border=\"1\" class=\"dataframe\">\n  <thead>\n    <tr style=\"text-align: right;\">\n      <th></th>\n      <th>ID</th>\n      <th>Name</th>\n      <th>Description</th>\n      <th>Coordinates</th>\n    </tr>\n  </thead>\n  <tbody>\n    <tr>\n      <th>0</th>\n      <td>3677668</td>\n      <td>LYCEE EMILY BRONTE</td>\n      <td>RUE GABRIEL - 77258</td>\n      <td>48.839179854,2.63877127865</td>\n    </tr>\n    <tr>\n      <th>1</th>\n      <td>3677692</td>\n      <td>LES QUATRE PAVES</td>\n      <td>ROND-POINT DES QUATRE PAVES - 77337</td>\n      <td>48.8516342568,2.62146597068</td>\n    </tr>\n    <tr>\n      <th>2</th>\n      <td>6869589</td>\n      <td>SUZANNE BUISSON</td>\n      <td>AVENUE HENRI VARAGNAT - 93010</td>\n      <td>48.9135017218,2.48226363192</td>\n    </tr>\n    <tr>\n      <th>3</th>\n      <td>1656</td>\n      <td>La Fourche</td>\n      <td>Avenue de Clichy - 75117</td>\n      <td>48.8874368425,2.32572522202</td>\n    </tr>\n    <tr>\n      <th>4</th>\n      <td>3677694</td>\n      <td>CHOCOLATERIE</td>\n      <td>BOULEVARD PIERRE CARLE - 77337</td>\n      <td>48.8560221346,2.62439108407</td>\n    </tr>\n  </tbody>\n</table>\n</div>"
                    },
                    "metadata": {}
                }
            ]
        },
        {
            "metadata": {},
            "cell_type": "code",
            "source": "",
            "execution_count": null,
            "outputs": []
        }
    ],
    "metadata": {
        "kernelspec": {
            "name": "python3",
            "display_name": "Python 3.6",
            "language": "python"
        },
        "language_info": {
            "name": "python",
            "version": "3.6.9",
            "mimetype": "text/x-python",
            "codemirror_mode": {
                "name": "ipython",
                "version": 3
            },
            "pygments_lexer": "ipython3",
            "nbconvert_exporter": "python",
            "file_extension": ".py"
        }
    },
    "nbformat": 4,
    "nbformat_minor": 1
}